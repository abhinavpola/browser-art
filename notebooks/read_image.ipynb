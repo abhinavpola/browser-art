{
 "cells": [
  {
   "cell_type": "code",
   "execution_count": 6,
   "metadata": {},
   "outputs": [],
   "source": [
    "import base64\n",
    "from io import BytesIO\n",
    "from PIL import Image\n",
    "from matplotlib import pyplot as plt\n",
    "\n",
    "def load_image_from_string(image_string: str, save_path):\n",
    "    \"\"\"\n",
    "    Decodes a base64 string and displays the image.\n",
    "    \n",
    "    Args:\n",
    "    - image_string: str, the base64 encoded image string.\n",
    "    \"\"\"\n",
    "    try:\n",
    "        # Decode the base64 string into bytes\n",
    "        image_bytes = base64.b64decode(image_string)\n",
    "        \n",
    "        # Create a BytesIO object from the bytes\n",
    "        image_data = BytesIO(image_bytes)\n",
    "        \n",
    "        # Open the image using PIL\n",
    "        image = Image.open(image_data)\n",
    "        plt.imshow(image)\n",
    "        plt.axis('off')  # Hide axes\n",
    "        plt.show()\n",
    "        # Display the image using matplotlib\n",
    "        image.save(save_path)\n",
    "    except Exception as e:\n",
    "        print(f\"Error loading image: {e}\")"
   ]
  },
  {
   "cell_type": "code",
   "execution_count": 17,
   "metadata": {},
   "outputs": [],
   "source": [
    "import json\n",
    "\n",
    "file_path = \"../src/OpenDevin/evaluation/evaluation_outputs/outputs/AGENT_LOGS_FILE_PATH.jsonl\"\n",
    "\n",
    "with open(file_path, 'r') as file:\n",
    "    parsed_data = json.load(file)"
   ]
  },
  {
   "cell_type": "code",
   "execution_count": 18,
   "metadata": {},
   "outputs": [],
   "source": [
    "z = []\n",
    "for x in parsed_data['history']:\n",
    "    for y in x:\n",
    "        if 'extras' in y and 'screenshot' in y['extras']:\n",
    "            z.append(y['extras']['screenshot'])"
   ]
  },
  {
   "cell_type": "code",
   "execution_count": null,
   "metadata": {},
   "outputs": [],
   "source": [
    "# Display the structure of the first parsed entry to understand its content\n",
    "save_path = \"\"\n",
    "load_image_from_string(z[9], save_path)"
   ]
  }
 ],
 "metadata": {
  "kernelspec": {
   "display_name": "genai_env",
   "language": "python",
   "name": "python3"
  },
  "language_info": {
   "codemirror_mode": {
    "name": "ipython",
    "version": 3
   },
   "file_extension": ".py",
   "mimetype": "text/x-python",
   "name": "python",
   "nbconvert_exporter": "python",
   "pygments_lexer": "ipython3",
   "version": "3.11.9"
  }
 },
 "nbformat": 4,
 "nbformat_minor": 2
}
