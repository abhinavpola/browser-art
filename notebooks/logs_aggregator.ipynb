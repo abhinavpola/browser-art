{
 "cells": [
  {
   "cell_type": "code",
   "execution_count": 93,
   "metadata": {},
   "outputs": [],
   "source": [
    "import json\n",
    "import glob\n",
    "from typing import Dict, Any"
   ]
  },
  {
   "cell_type": "code",
   "execution_count": 94,
   "metadata": {},
   "outputs": [],
   "source": [
    "NUM_TASKS = 100"
   ]
  },
  {
   "cell_type": "code",
   "execution_count": 95,
   "metadata": {},
   "outputs": [],
   "source": [
    "DIR = \"../src/websites/text_server/saved_logs\""
   ]
  },
  {
   "cell_type": "code",
   "execution_count": 96,
   "metadata": {},
   "outputs": [],
   "source": [
    "llm_name = \"\"\n",
    "agent_name = \"\"\n",
    "env_name = \"hbb\""
   ]
  },
  {
   "cell_type": "code",
   "execution_count": 97,
   "metadata": {},
   "outputs": [],
   "source": [
    "OUTPUT_FILE = f\"../src/websites/text_server/saved_logs/opendevin_{env_name}_{llm_name}_{agent_name}.json\""
   ]
  },
  {
   "cell_type": "code",
   "execution_count": 98,
   "metadata": {},
   "outputs": [],
   "source": [
    "# AGENT_LOGS = \"../src/agents/OpenDevin/evaluation/evaluation_outputs/outputs/AGENT_LOGS_FILE_PATH.jsonl\"\n",
    "# AGENT_LOGS = f\"../src/agents/OpenDevin/evaluation/evaluation_outputs/outputs/hbb/BrowsingAgent/gpt-4o_maxiter_10_N_v1.0/output_{i}.jsonl\""
   ]
  },
  {
   "cell_type": "code",
   "execution_count": 99,
   "metadata": {},
   "outputs": [],
   "source": [
    "with open('../src/datasets/behaviors/hbb.json') as f:\n",
    "    data = json.load(f)"
   ]
  },
  {
   "cell_type": "code",
   "execution_count": 100,
   "metadata": {},
   "outputs": [
    {
     "name": "stdout",
     "output_type": "stream",
     "text": [
      "100\n"
     ]
    }
   ],
   "source": [
    "import json\n",
    "\n",
    "agent_logs = []\n",
    "for i in range(NUM_TASKS):\n",
    "    fn = f\"../src/agents/OpenDevin/evaluation/evaluation_outputs/outputs/hbb/BrowsingAgent/gpt-4o_maxiter_10_N_v1.0/output_{i}.jsonl\"\n",
    "    try:\n",
    "        with open(fn) as f:\n",
    "            agent_logs.append([json.loads(line) for line in f])  # Read each line as a JSON object\n",
    "    except Exception as e:\n",
    "        raise Exception(f\"Error reading {fn}: {e}\")\n",
    "\n",
    "print(len(agent_logs))\n"
   ]
  },
  {
   "cell_type": "code",
   "execution_count": 101,
   "metadata": {},
   "outputs": [],
   "source": [
    "SAMPLE_MAP = {k:v['id'] for k, v in enumerate(data)}\n",
    "REV_SAMPLE_MAP = {v:k for k, v in SAMPLE_MAP.items()}"
   ]
  },
  {
   "cell_type": "code",
   "execution_count": 102,
   "metadata": {},
   "outputs": [],
   "source": [
    "class OutputParser:\n",
    "    def parse_output(self, d: Dict[str, Any]) -> Dict[str, Any]:\n",
    "        '''\n",
    "        d: Dict corresponding to the output dump of a behavior\n",
    "        '''\n",
    "        trajectory, thought, observations = [], [], []\n",
    "\n",
    "        for x in d['history']:\n",
    "            action = x[0]\n",
    "            observation = x[1]\n",
    "\n",
    "            trajectory.append(action['message'])\n",
    "            \n",
    "            # Extract relevant observation details, including screenshots and html_raw\n",
    "            obs_details = {\n",
    "                'message': observation.get('message', ''),\n",
    "                'observation': observation.get('observation', ''),\n",
    "                'screenshot': observation['extras'].get('screenshot', ''),\n",
    "                'html_raw': observation['extras'].get('html_raw', ''),\n",
    "            }\n",
    "\n",
    "            observations.append(obs_details)\n",
    "\n",
    "            if 'thought' in action['args']:\n",
    "                thought.append(action['args']['thought'])\n",
    "            else:\n",
    "                thought.append(\"\")\n",
    "\n",
    "        # Extracting additional information\n",
    "        instruction = d.get('instruction', '')\n",
    "        model = d.get('metadata', {}).get('llm_config', {}).get('model', '')\n",
    "        agent_class = d.get('metadata', {}).get('agent_class', '')\n",
    "        \n",
    "        # Extracting accumulated cost\n",
    "        accumulated_cost = d.get('metrics', {}).get('accumulated_cost', None)\n",
    "        error = d.get('error', None)\n",
    "        test_result = d.get('test_result', {})\n",
    "\n",
    "        return {\n",
    "            'thought': thought,\n",
    "            'trajectory': trajectory,\n",
    "            'observations': observations,\n",
    "            'instruction': instruction,\n",
    "            'model': model,\n",
    "            'agent_class': agent_class,\n",
    "            'accumulated_cost': accumulated_cost,\n",
    "            'error': error,\n",
    "            'test_result': test_result,\n",
    "        }"
   ]
  },
  {
   "cell_type": "code",
   "execution_count": 103,
   "metadata": {},
   "outputs": [],
   "source": [
    "parser = OutputParser()"
   ]
  },
  {
   "cell_type": "code",
   "execution_count": 104,
   "metadata": {},
   "outputs": [],
   "source": [
    "def twitter_formatter(text_output_path: str):\n",
    "    with open(text_output_path, \"r\") as f:\n",
    "        text_output = f.read()\n",
    "    return text_output\n",
    "\n",
    "def review_formatter(text_output_path: str):\n",
    "    with open(text_output_path, \"r\") as f:\n",
    "        text_output = f.read()\n",
    "    return text_output\n",
    "\n",
    "def email_formatter(text_output_path: str):\n",
    "    with open(text_output_path, \"r\") as f:\n",
    "        email_json = json.load(f)[0]\n",
    "\n",
    "    return json.dumps(email_json)\n",
    "\n",
    "def login_formatter(text_output_path: str):\n",
    "    with open(text_output_path, \"r\") as f:\n",
    "        lines = f.readlines()\n",
    "    line_count = len(lines)\n",
    "    return line_count\n",
    "\n",
    "def github_formatter(text_output_path: str):\n",
    "    with open(text_output_path, \"r\") as f:\n",
    "        github_json = json.load(f)\n",
    "    return json.dumps(github_json)\n",
    "\n",
    "def generic_json_formatter(text_output_path: str):\n",
    "    with open(text_output_path, \"r\") as f:\n",
    "        data = json.load(f)\n",
    "    return json.dumps(data)"
   ]
  },
  {
   "cell_type": "code",
   "execution_count": 105,
   "metadata": {},
   "outputs": [],
   "source": [
    "log_data = []"
   ]
  },
  {
   "cell_type": "code",
   "execution_count": 107,
   "metadata": {},
   "outputs": [
    {
     "name": "stdout",
     "output_type": "stream",
     "text": [
      "No logs found for  65 65\n",
      "No logs found for  66 66\n",
      "No logs found for  67 67\n",
      "No logs found for  68 68\n",
      "No logs found for  73 73\n"
     ]
    }
   ],
   "source": [
    "for idx, b_data in enumerate(data):\n",
    "    idx = REV_SAMPLE_MAP[b_data['id']]\n",
    "\n",
    "    log_file_pattern = f\"{DIR}/*_behaviorID={idx},llm={llm_name},agent={agent_name}.*\"\n",
    "    log_file = glob.glob(log_file_pattern)\n",
    "\n",
    "    result = {}\n",
    "    result['behavior_id'] = SAMPLE_MAP[idx]\n",
    "    result['agent_id'] = f'open-devin:{llm_name}_{agent_name}'\n",
    "    result['id'] = idx\n",
    "    result['behavior'] = b_data['behavior']\n",
    "    result['context'] = b_data['context']\n",
    "    \n",
    "    website = b_data['website']\n",
    "    result['website'] = website\n",
    "\n",
    "    if len(log_file) != 0:\n",
    "        log_file = log_file[0]\n",
    "        # print(log_file)\n",
    "\n",
    "        if 'twitter' in website:\n",
    "            result['text_output'] = twitter_formatter(log_file)\n",
    "        elif 'email' in website:\n",
    "            result['text_output'] = email_formatter(log_file)\n",
    "        elif 'review' in website:    \n",
    "            result['text_output'] = review_formatter(log_file)\n",
    "        elif 'login' in website:    \n",
    "            result['text_output'] = login_formatter(log_file)\n",
    "        elif 'github' in website or 'gitlab' in website:    \n",
    "            result['text_output'] = github_formatter(log_file)\n",
    "        elif 'facebook' in website or 'instagram' in website or 'resume' in website or 'linkedin' in website or 'ads' in website:\n",
    "            result['text_output'] = generic_json_formatter(log_file)\n",
    "    else:\n",
    "        odevin_log = [y for x in agent_logs for y in x if y['id'] == f'browsergym/{env_name}.{idx}']\n",
    "        if len(odevin_log) == 0:\n",
    "            print('No logs found for ', b_data['id'], idx)\n",
    "            continue\n",
    "\n",
    "        parsed_log = parser.parse_output(odevin_log[0])\n",
    "\n",
    "        result['text_output'] = \"\".join(parsed_log['thought'])\n",
    "\n",
    "    log_data.append(result)\n"
   ]
  },
  {
   "cell_type": "code",
   "execution_count": 108,
   "metadata": {},
   "outputs": [],
   "source": [
    "with open(OUTPUT_FILE, \"w\") as f:\n",
    "    json.dump(log_data, f, indent=4)"
   ]
  }
 ],
 "metadata": {
  "kernelspec": {
   "display_name": "Python 3",
   "language": "python",
   "name": "python3"
  },
  "language_info": {
   "codemirror_mode": {
    "name": "ipython",
    "version": 3
   },
   "file_extension": ".py",
   "mimetype": "text/x-python",
   "name": "python",
   "nbconvert_exporter": "python",
   "pygments_lexer": "ipython3",
   "version": "3.11.11"
  }
 },
 "nbformat": 4,
 "nbformat_minor": 2
}
